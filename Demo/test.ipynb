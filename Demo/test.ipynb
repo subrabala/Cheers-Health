{
 "cells": [
  {
   "cell_type": "code",
   "execution_count": 2,
   "metadata": {},
   "outputs": [
    {
     "name": "stdout",
     "output_type": "stream",
     "text": [
      "56\n",
      "13\n"
     ]
    },
    {
     "data": {
      "text/html": [
       "<div>\n",
       "<style scoped>\n",
       "    .dataframe tbody tr th:only-of-type {\n",
       "        vertical-align: middle;\n",
       "    }\n",
       "\n",
       "    .dataframe tbody tr th {\n",
       "        vertical-align: top;\n",
       "    }\n",
       "\n",
       "    .dataframe thead th {\n",
       "        text-align: right;\n",
       "    }\n",
       "</style>\n",
       "<table border=\"1\" class=\"dataframe\">\n",
       "  <thead>\n",
       "    <tr style=\"text-align: right;\">\n",
       "      <th></th>\n",
       "      <th>No</th>\n",
       "      <th>Question 1</th>\n",
       "      <th>Response 1</th>\n",
       "      <th>Question 2</th>\n",
       "      <th>Response 2</th>\n",
       "      <th>Question 3</th>\n",
       "      <th>Response 3</th>\n",
       "      <th>Question 4</th>\n",
       "      <th>Response 4</th>\n",
       "      <th>Question 5</th>\n",
       "      <th>Response 5</th>\n",
       "      <th>Question 6</th>\n",
       "      <th>Response 6</th>\n",
       "    </tr>\n",
       "  </thead>\n",
       "  <tbody>\n",
       "    <tr>\n",
       "      <th>0</th>\n",
       "      <td>1.0</td>\n",
       "      <td>How are you feeling today</td>\n",
       "      <td>Good</td>\n",
       "      <td>OK</td>\n",
       "      <td>NaN</td>\n",
       "      <td>NaN</td>\n",
       "      <td>NaN</td>\n",
       "      <td>NaN</td>\n",
       "      <td>NaN</td>\n",
       "      <td>NaN</td>\n",
       "      <td>NaN</td>\n",
       "      <td>NaN</td>\n",
       "      <td>NaN</td>\n",
       "    </tr>\n",
       "    <tr>\n",
       "      <th>1</th>\n",
       "      <td>NaN</td>\n",
       "      <td>NaN</td>\n",
       "      <td>Not Good</td>\n",
       "      <td>What is wrong/</td>\n",
       "      <td>Feeling feverish</td>\n",
       "      <td>Check your Temperature, if &gt; 99⁰ contact your ...</td>\n",
       "      <td>NaN</td>\n",
       "      <td>NaN</td>\n",
       "      <td>NaN</td>\n",
       "      <td>NaN</td>\n",
       "      <td>NaN</td>\n",
       "      <td>NaN</td>\n",
       "      <td>NaN</td>\n",
       "    </tr>\n",
       "  </tbody>\n",
       "</table>\n",
       "</div>"
      ],
      "text/plain": [
       "   No                  Question 1 Response 1      Question 2  \\\n",
       "0  1.0  How are you feeling today       Good              OK   \n",
       "1  NaN                        NaN   Not Good  What is wrong/   \n",
       "\n",
       "         Response 2                                         Question 3  \\\n",
       "0               NaN                                                NaN   \n",
       "1  Feeling feverish  Check your Temperature, if > 99⁰ contact your ...   \n",
       "\n",
       "  Response 3 Question 4 Response 4 Question 5 Response 5 Question 6  \\\n",
       "0        NaN        NaN        NaN        NaN        NaN        NaN   \n",
       "1        NaN        NaN        NaN        NaN        NaN        NaN   \n",
       "\n",
       "   Response 6  \n",
       "0         NaN  \n",
       "1         NaN  "
      ]
     },
     "execution_count": 2,
     "metadata": {},
     "output_type": "execute_result"
    }
   ],
   "source": [
    "import pandas as pd\n",
    "dataset = pd.read_excel(\"dataset.xlsx\")\n",
    "print(len(dataset.index))\n",
    "print(len(dataset.columns))\n",
    "dataset.head(2)"
   ]
  },
  {
   "cell_type": "code",
   "execution_count": 92,
   "metadata": {},
   "outputs": [],
   "source": [
    "alphabet = \"abcdefghijklmnopqrstuvwxyzabcdefghijklmnopqrstuvwxyz\""
   ]
  },
  {
   "cell_type": "code",
   "execution_count": 327,
   "metadata": {},
   "outputs": [
    {
     "name": "stdout",
     "output_type": "stream",
     "text": [
      "{'Question': 'Did you do your regular exercise today', 'Options': {'C20': 'Yes', 'C21': 'No '}}\n"
     ]
    }
   ],
   "source": [
    "def convert_to_no(cell):\n",
    "    cell = cell.lower()\n",
    "    cell_no = [int(cell[1:])-2, alphabet.index(cell[0])]\n",
    "    return cell_no\n",
    "\n",
    "def convert_to_xl(cell_no):\n",
    "    cell = alphabet[cell_no[1]].upper()+str(cell_no[0]+2)\n",
    "    return cell\n",
    "\n",
    "def convert_to_dict(response, cell_no):\n",
    "    response = response.to_dict()\n",
    "    response_tmp = response.copy()\n",
    "    for key in response_tmp.keys():\n",
    "        response[convert_to_xl([key, cell_no[1]+1])\n",
    "                    ] = response.pop(key, None)\n",
    "    return response\n",
    "\n",
    "def gen_response(cell):    \n",
    "    cell_no = convert_to_no(cell)\n",
    "    if (cell == \"A1\"):\n",
    "        cell=\"A2\"\n",
    "        cell_no = convert_to_no(cell)\n",
    "        response = dataset.iloc[cell_no[0]:len(dataset.index), cell_no[1]+1].dropna()\n",
    "        response = response.to_dict()\n",
    "        response_tmp = response.copy()\n",
    "        for key in response_tmp.keys():\n",
    "            response[convert_to_xl([key, cell_no[1]])\n",
    "                     ] = response.pop(key, None)\n",
    "        return response\n",
    "\n",
    "    if (cell_no[1]%2 == 0):\n",
    "        # response = dataset.iloc[cell_no[0], cell_no[1]+1]\n",
    "        # response = {convert_to_xl([cell_no[0], cell_no[1]+1]): response}\n",
    "        response = {\"Question\": dataset.iloc[cell_no[0], cell_no[1]+1]}\n",
    "        next = dataset.index.where(dataset[list(dataset.columns)[cell_no[1]+1]].notna().dropna())\n",
    "        next = list(i for i in (list(next)) if i>cell_no[0])[0]\n",
    "        options = dataset.iloc[cell_no[0]:int(next), cell_no[1]+2].dropna()\n",
    "        options = convert_to_dict(options, [cell_no[0], cell_no[1]+1])\n",
    "        response[\"Options\"]=options\n",
    "        return response\n",
    "        \n",
    "print(gen_response(\"A20\"))"
   ]
  },
  {
   "cell_type": "code",
   "execution_count": 240,
   "metadata": {},
   "outputs": [
    {
     "name": "stdout",
     "output_type": "stream",
     "text": [
      "15.0\n"
     ]
    }
   ],
   "source": [
    "print(list(i for i in (list(dataset.index.where(dataset[list(dataset.columns)[3]].notna().dropna()))) if i>1.0)[0])"
   ]
  }
 ],
 "metadata": {
  "kernelspec": {
   "display_name": ".venv",
   "language": "python",
   "name": "python3"
  },
  "language_info": {
   "codemirror_mode": {
    "name": "ipython",
    "version": 3
   },
   "file_extension": ".py",
   "mimetype": "text/x-python",
   "name": "python",
   "nbconvert_exporter": "python",
   "pygments_lexer": "ipython3",
   "version": "3.10.8"
  },
  "orig_nbformat": 4
 },
 "nbformat": 4,
 "nbformat_minor": 2
}
